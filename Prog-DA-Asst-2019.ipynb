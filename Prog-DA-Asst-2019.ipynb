{
 "cells": [
  {
   "cell_type": "markdown",
   "metadata": {},
   "source": [
    "# Programming for Data Analysis Assignment 2019"
   ]
  },
  {
   "cell_type": "markdown",
   "metadata": {},
   "source": [
    "- Ref:\n",
    "- Location: C:\\Users\\35386\\Desktop\\Prog-DA-Assignment"
   ]
  },
  {
   "cell_type": "markdown",
   "metadata": {},
   "source": [
    "# Part 1. Overall Purpose of the Package.\n",
    "- Ref: https://jupyter.org/\n",
    "- 'Project Jupyter exists to develop open-source software, open-standards, and services for interactive computing across dozens of programming languages.'\n",
    "- It's default entry mode is 'code', and at its very basic, this will run programs like any other integrated Development Environment, such as the ipython interpereter. Its main advantage however, as outlined above, is that it interacts with other programming langugaes and it is very useful for investigating Datasets. \n",
    "- It has 3 main types of cells. The Mark down cell which we are currently in displays trxt as HTML.\n",
    "- The second is the Code cell, that accepts code, the following is an example of this:"
   ]
  },
  {
   "cell_type": "code",
   "execution_count": 1,
   "metadata": {},
   "outputs": [
    {
     "name": "stdout",
     "output_type": "stream",
     "text": [
      "-50\n"
     ]
    }
   ],
   "source": [
    "a = 100\n",
    "b = 50\n",
    "print (b-a)"
   ]
  },
  {
   "cell_type": "markdown",
   "metadata": {},
   "source": [
    "- The cell above, is an output cell, that gives the output of the code cell. Double clicking on this will hide it.\n",
    "- There are a number of other keyboard shortcuts available in the help menu. "
   ]
  },
  {
   "cell_type": "markdown",
   "metadata": {},
   "source": [
    "# Advantages\n",
    "- Ref: https://www.analyticsvidhya.com/blog/2018/05/starters-guide-jupyter-notebook/\n",
    "\n",
    "- Jupyter Notebook is an open-source web application that allows us to create and share codes and documents.\n",
    "\n",
    "- It provides an environment, where you can document your code, run it, look at the outcome, visualize data and see the results without leaving the environment. This makes it a handy tool for performing end to end data science workflows – data cleaning, statistical modeling, building and training machine learning models, visualizing data, and many, many other uses.\n",
    "\n",
    "- Jupyter Notebooks really shine when you are still in the prototyping phase. This is because your code is written in indepedent cells, which are executed individually. This allows the user to test a specific block of code in a project without having to execute the code from the start of the script. Many other IDE enviornments (like RStudio) also do this in several ways, but I have personally found Jupyter’s individual cells structure to be the best of the lot. \n",
    "- Jupyter Notebooks are incredibly flexible, interactive and powerful tools in the hands of a data scientist. They even allow you to run other languages besides Python, like R, SQL, etc. Since they are more interactive than an IDE platform, they are widely used to display codes in a more pedagogical manner.\n",
    "- "
   ]
  },
  {
   "cell_type": "markdown",
   "metadata": {},
   "source": [
    "# Disadvantages\n",
    "- Ref: https://towardsdatascience.com/5-reasons-why-jupyter-notebooks-suck-4dc201e27086\n",
    "- 1. It is almost impossible to enable good code versioning\n",
    "- Do you work in a data team that collaborates and might work on the same notebooks? Probably you then tried to merge two jupyter notebooks. Due to the fact that jupyter notebooks are stored as big JSON files merging two notebooks is virtually impossible. This is bad because we cannot apply tools for software teams like a good git workflow will pull requests and reviews.\n",
    "- 2. There is no IDE integration, no linting, no code-style correction\n",
    "- Once I posted a snippet from a jupyter notebook into slack python developer group. I cannot say how ashamed I felt about the way they blamed me for not following pep conventions. Jupyter has no kind of linting meaning you can write very badly styled coded. Just try to copy your code into your favorable code editor with linting, and you will see what I mean. Data Scientist are not software engineers and therefore tools that govern their code quality and help to improve it are very important.\n",
    "- 3. Very hard to test\n",
    "- A colleague of mine once said when you work with jupyter notebooks you basically forget software engineering. And he is right! It is so damn hard to structure your code reasonable, put your code into functions and then develop tests for them. I’m a huge fan of test-driven development and I can only recommend moving away as quickly as possible from jupyter notebooks when you develop serious data pipelines. Jupyter notebooks are a tool for exploration not for production, as soon as you want to reproduce some experiments and run notebooks frequently. Dump your jupyter notebooks and develop your python script based on test-driven-development principles. (And yes you can also develop data products using TDD, you just need to get your fixtures right!)\n",
    "- 4. The non-linear workflow of jupyter\n",
    "- Did you ever destroy your current working state when jumping between cells of jupyter notebooks? Yes? I can tell you’re not alone this happens to me quite frequently. This way of jumping around between cells can result in unreproducible experiments. The interactive way of coding and jumping in a notebook between cells is both one of jupyter notebooks best features and its biggest weakness.\n",
    "- 5. Jupyter is bad for running long asynchronous tasks\n",
    "- I like to say big data means big problems. Usually, you start when approaching a problem with a small dataset that fits into your memory. You will come to the point where your machine is not good enough anymore. You could then jump to tools like spark, dask and distributed and run them from your notebook. I suggest not to do so. If you got your first data exploration done and want to rum large-scale experiments or even finalize your data pipeline. Pull your code out of the jupyter notebook start a proper python project, create fixtures, write tests and deploy your application then to a cluster. This will help you a lot to build reliable data-driven products."
   ]
  },
  {
   "cell_type": "markdown",
   "metadata": {},
   "source": [
    "# Simple Random Data function"
   ]
  },
  {
   "cell_type": "markdown",
   "metadata": {},
   "source": [
    "- Ref: https://www.investopedia.com/terms/s/simple-random-sample.asp\n",
    "- \"A simple random sample is a subset of a statistical population in which each member of the subset has an equal probability of being chosen. A simple random sample is meant to be an unbiased representation of a group\". In numpy, the Random sampling provides ten data functions from which random numbers can be drawn. Each of the data functions has specific peramiters that will impact the range from which the random sample (or subset can be drawn. \n",
    "- Simple Randon Data is a subpackage of numpy and is therefore can be imported into juypter notebook. \n",
    "- Ref: "
   ]
  },
  {
   "cell_type": "markdown",
   "metadata": {},
   "source": [
    "# Permutations Function\n",
    "- Ref: https://docs.scipy.org/doc/numpy-1.14.0/reference/generated/numpy.random.permutation.html\n",
    "- The permutation function in numpy is called by giving the command numpy.random.permutation(x) or numpy.random.shuffle (x).\n",
    "- In numpy.random.permutation(x) gives as an output a randomly permutation of a sequence or a permutation of a range. \n",
    "- In numpy.random.shuffle(x) the sequence is modified by shuffling its content in palce."
   ]
  },
  {
   "cell_type": "markdown",
   "metadata": {},
   "source": [
    "Ref: https://github.com/numpy/numpy/issues/8250"
   ]
  },
  {
   "cell_type": "code",
   "execution_count": 2,
   "metadata": {},
   "outputs": [],
   "source": [
    "import numpy as np\n",
    "\n",
    "N = 10\n",
    "A = np.random.permutation([2, 3, 5, 7, 11])\n",
    "B = np.random.permutation (N)\n",
    "c = np.arange(12).reshape(3,4)\n",
    "D = np.arange(12).reshape(4,3)"
   ]
  },
  {
   "cell_type": "code",
   "execution_count": 3,
   "metadata": {},
   "outputs": [
    {
     "name": "stdout",
     "output_type": "stream",
     "text": [
      "[ 2  5  3  7 11]\n"
     ]
    }
   ],
   "source": [
    "print (A)"
   ]
  },
  {
   "cell_type": "code",
   "execution_count": 4,
   "metadata": {},
   "outputs": [
    {
     "name": "stdout",
     "output_type": "stream",
     "text": [
      "[4 6 8 7 2 0 1 9 3 5]\n"
     ]
    }
   ],
   "source": [
    "print (B)"
   ]
  },
  {
   "cell_type": "code",
   "execution_count": 5,
   "metadata": {},
   "outputs": [
    {
     "name": "stdout",
     "output_type": "stream",
     "text": [
      "[[ 0  1  2  3]\n",
      " [ 4  5  6  7]\n",
      " [ 8  9 10 11]]\n"
     ]
    }
   ],
   "source": [
    "print (c)"
   ]
  },
  {
   "cell_type": "code",
   "execution_count": 6,
   "metadata": {},
   "outputs": [
    {
     "name": "stdout",
     "output_type": "stream",
     "text": [
      "(3, 4)\n"
     ]
    }
   ],
   "source": [
    "print (c.shape)"
   ]
  },
  {
   "cell_type": "code",
   "execution_count": 7,
   "metadata": {},
   "outputs": [
    {
     "name": "stdout",
     "output_type": "stream",
     "text": [
      "[[ 8  9 10 11]\n",
      " [ 0  1  2  3]\n",
      " [ 4  5  6  7]]\n"
     ]
    },
    {
     "data": {
      "text/plain": [
       "array([[ 0,  1,  2,  3],\n",
       "       [ 4,  5,  6,  7],\n",
       "       [ 8,  9, 10, 11]])"
      ]
     },
     "execution_count": 7,
     "metadata": {},
     "output_type": "execute_result"
    }
   ],
   "source": [
    "print ((np.random.permutation(c)))\n",
    "(np.random.permutation(c))\n",
    "c"
   ]
  },
  {
   "cell_type": "code",
   "execution_count": 8,
   "metadata": {},
   "outputs": [
    {
     "name": "stdout",
     "output_type": "stream",
     "text": [
      "[[ 0  1  2]\n",
      " [ 3  4  5]\n",
      " [ 6  7  8]\n",
      " [ 9 10 11]]\n"
     ]
    }
   ],
   "source": [
    "print (D)"
   ]
  },
  {
   "cell_type": "code",
   "execution_count": 9,
   "metadata": {},
   "outputs": [
    {
     "name": "stdout",
     "output_type": "stream",
     "text": [
      "(4, 3)\n"
     ]
    }
   ],
   "source": [
    "print (D.shape)"
   ]
  },
  {
   "cell_type": "code",
   "execution_count": 10,
   "metadata": {},
   "outputs": [
    {
     "name": "stdout",
     "output_type": "stream",
     "text": [
      "None\n"
     ]
    },
    {
     "data": {
      "text/plain": [
       "array([[ 9, 10, 11],\n",
       "       [ 3,  4,  5],\n",
       "       [ 0,  1,  2],\n",
       "       [ 6,  7,  8]])"
      ]
     },
     "execution_count": 10,
     "metadata": {},
     "output_type": "execute_result"
    }
   ],
   "source": [
    "print (np.random.shuffle(D))\n",
    "np.random.shuffle(D)\n",
    "D"
   ]
  },
  {
   "cell_type": "markdown",
   "metadata": {},
   "source": [
    "- One of the difference noted here is how each function is called, in shuffle using print outputs None. "
   ]
  },
  {
   "cell_type": "markdown",
   "metadata": {},
   "source": [
    "# Distribution Functions\n",
    "- Ref: https://docs.scipy.org/doc/numpy-1.14.0/reference/routines.random.html\n",
    "- The first thing I will do is to look at the various distribution functions using a Density Plot. This will give a better (more continuous) picturs of the density plot/"
   ]
  },
  {
   "cell_type": "markdown",
   "metadata": {},
   "source": [
    "### Pareto distribution\n",
    "- The first distribution to be examined will be the pareto distribution. This draws samples from samples from a Pareto II or Lomax distribution with specified shape. \n",
    "- The Lomax distribution is a heavy tailed distribution originally proposed by Lomax (1987), who used it in his analysis of business failure lifetime data. The distribution, which is basically a shifted Pareto distribution, is widely used in survival analysis, and has many applications in actuarial science, economics, and business. (https://www.statisticshowto.datasciencecentral.com/lomax-distribution/)\n",
    "- The Pareto distribution must be greater than zero, and is unbounded above. It is also known as the “80-20 rule”. In this distribution, 80 percent of the weights are in the lowest 20 percent of the range, while the other 20 percent fill the remaining 80 percent of the range.\n",
    "- The following is a plot of the pareto distribution."
   ]
  },
  {
   "cell_type": "code",
   "execution_count": 11,
   "metadata": {},
   "outputs": [],
   "source": [
    "%matplotlib inline\n",
    "# Need this to show the plot.\n",
    "a, m = 10, 100.  \n",
    "# shape (a) and mode (m)\n",
    "s = (np.random.pareto(a, 100) + 1) * m"
   ]
  },
  {
   "cell_type": "code",
   "execution_count": 12,
   "metadata": {},
   "outputs": [
    {
     "name": "stderr",
     "output_type": "stream",
     "text": [
      "C:\\Users\\35386\\Anaconda3\\lib\\site-packages\\ipykernel_launcher.py:2: MatplotlibDeprecationWarning: \n",
      "The 'normed' kwarg was deprecated in Matplotlib 2.1 and will be removed in 3.1. Use 'density' instead.\n",
      "  \n"
     ]
    },
    {
     "data": {
      "image/png": "[encoded data removed]",
      "text/plain": [
       "<Figure size 432x288 with 1 Axes>"
      ]
     },
     "metadata": {
      "needs_background": "light"
     },
     "output_type": "display_data"
    }
   ],
   "source": [
    "import matplotlib.pyplot as plt\n",
    "count, bins, _ = plt.hist(s, 10, normed=True)               \n",
    "fit = a*m**a / bins**(a+1)\n",
    "plt.plot(bins, max(count)*fit/max(fit), linewidth=2, color='r')\n",
    "plt.show()"
   ]
  },
  {
   "cell_type": "code",
   "execution_count": 13,
   "metadata": {},
   "outputs": [
    {
     "data": {
      "text/plain": [
       "array([0.26115292, 0.18690862, 0.0314653 , 0.03037858, 0.03709293,\n",
       "       0.04399984, 0.05276176, 0.20177509, 0.01340868, 0.01629202,\n",
       "       0.09292568, 0.02455359, 0.04130552, 0.04005354, 0.09284236,\n",
       "       0.01896196, 0.05513965, 0.02213957, 0.28003782, 0.20202961,\n",
       "       0.25713631, 0.13185359, 0.00648761, 0.17012932, 0.23395372,\n",
       "       0.00264549, 0.01908421, 0.03120509, 0.03068132, 0.1544207 ,\n",
       "       0.08975579, 0.20958754, 0.02404965, 0.35991513, 0.02782631,\n",
       "       1.39598585, 0.11876259, 0.14873866, 0.4801591 , 0.09198234,\n",
       "       0.06500978, 0.00218122, 0.24115478, 0.06083666, 0.02063345,\n",
       "       0.11391933, 0.00591773, 0.40283481, 0.39678841, 0.06514734,\n",
       "       0.07082379, 0.05384663, 0.13674111, 0.01748351, 0.29429269,\n",
       "       0.03265341, 0.34201225, 0.20936234, 0.03862416, 0.05605248,\n",
       "       0.02499164, 0.25217616, 0.02325978, 0.19271901, 0.23421109,\n",
       "       0.1141195 , 0.03258271, 0.02393403, 0.00547319, 0.0397641 ,\n",
       "       0.05048646, 0.0931219 , 0.00499891, 0.18542866, 0.06962221,\n",
       "       0.02682398, 0.00539425, 0.18256012, 0.09424851, 0.01970632,\n",
       "       0.08080506, 0.02604636, 0.11874354, 0.0228504 , 0.11730186,\n",
       "       0.03193331, 0.0648576 , 0.20378632, 0.02691101, 0.05560317,\n",
       "       0.08329209, 0.18512008, 0.05279818, 0.03169363, 0.09107938,\n",
       "       0.04135416, 0.13338441, 0.02142414, 0.06681091, 0.02640069])"
      ]
     },
     "execution_count": 13,
     "metadata": {},
     "output_type": "execute_result"
    }
   ],
   "source": [
    "x = np.random.pareto(10, 100)\n",
    "# 10 is the shape of the distribution, 100 is the size\n",
    "x"
   ]
  },
  {
   "cell_type": "code",
   "execution_count": 14,
   "metadata": {},
   "outputs": [
    {
     "name": "stdout",
     "output_type": "stream",
     "text": [
      "<class 'numpy.ndarray'>\n",
      "0.002181221764648189\n",
      "1.39598584704502\n"
     ]
    }
   ],
   "source": [
    "print (type(x))\n",
    "print (x.min())\n",
    "print (x.max())"
   ]
  },
  {
   "cell_type": "code",
   "execution_count": 15,
   "metadata": {},
   "outputs": [
    {
     "name": "stdout",
     "output_type": "stream",
     "text": [
      "0.11513720139278093\n",
      "0.16389427857577454\n"
     ]
    },
    {
     "data": {
      "image/png": "[encoded data removed]",
      "text/plain": [
       "<Figure size 432x288 with 1 Axes>"
      ]
     },
     "metadata": {
      "needs_background": "light"
     },
     "output_type": "display_data"
    }
   ],
   "source": [
    "plt.hist(x)\n",
    "#plt.plot((x), color='r')\n",
    "print (np.mean(x))\n",
    "print (np.std (x))"
   ]
  },
  {
   "cell_type": "markdown",
   "metadata": {},
   "source": [
    "- As outlined, 80% of this distribution is frontloaded in this distribution, this would explain the location of the mean and the sixe of the standard distribution, i.e. to capture 97% of this distribution, we need to go past .59 on the x axis."
   ]
  },
  {
   "cell_type": "markdown",
   "metadata": {},
   "source": [
    "### Triangular distribution\n",
    "- The triangular distribution is often used in ill-defined problems where the underlying distribution is not known, but some knowledge of the limits and mode exists"
   ]
  },
  {
   "cell_type": "code",
   "execution_count": 16,
   "metadata": {},
   "outputs": [
    {
     "name": "stdout",
     "output_type": "stream",
     "text": [
      "[3.94106349 1.82277549 2.77845286 ... 4.3673126  2.99888537 3.04848008]\n",
      "<class 'numpy.ndarray'>\n",
      "1.0091149296900082\n",
      "7.9804972100167335\n"
     ]
    }
   ],
   "source": [
    "y = np.random.triangular (1, 3, 8, 100000)\n",
    "print (y)\n",
    "print (type(y))\n",
    "print (y.min())\n",
    "print (y.max())"
   ]
  },
  {
   "cell_type": "code",
   "execution_count": 17,
   "metadata": {},
   "outputs": [
    {
     "name": "stdout",
     "output_type": "stream",
     "text": [
      "4.003120437592162\n",
      "1.477619157616646\n"
     ]
    },
    {
     "data": {
      "image/png": "[encoded data removed]",
      "text/plain": [
       "<Figure size 432x288 with 1 Axes>"
      ]
     },
     "metadata": {
      "needs_background": "light"
     },
     "output_type": "display_data"
    }
   ],
   "source": [
    "plt.hist((y), bins=50)\n",
    "#plt.plot((y), color='b')\n",
    "print (np.mean(y))\n",
    "print (np.std (y))"
   ]
  },
  {
   "cell_type": "markdown",
   "metadata": {},
   "source": [
    "- This distribution, takes parameters, left, mode, right, size and gives as an output a ndarray or scalar. The left, right and mode parameers can be folats or and array of like floats, but the size must be ints or tuples of ints.\n",
    "- As implied by it's name looks like a triangle with the apex given at the mode value (the most often occuring value in the distribution). It is bounded by the left and right values.\n",
    "- The mean of this distrubition is dependant on the left and right values and the shape of the triangle will tend towards the lower of the two values."
   ]
  },
  {
   "cell_type": "markdown",
   "metadata": {},
   "source": [
    "### Beta distribution\n",
    "- In short, the beta distribution can be understood as representing a probability distribution of probabilities- that is, it represents all the possible values of a probability when we don’t know what that probability is, (Ref: http://varianceexplained.org/statistics/beta_distribution_and_baseball/).\n",
    "- The beta distribution is used for many applications, including Bayesian hypothesis testing, the Rule of Succession (a famous example being Pierre-Simon Laplace’s treatment of the sunrise problem), and Task duration modeling. The beta distribution is especially suited to project/planning control systems like PERT and CPM because the function is constrained by an interval with a minimum (0) and maximum (1) value (Ref: https://www.statisticshowto.datasciencecentral.com/beta-distribution/)\n",
    "- "
   ]
  },
  {
   "cell_type": "code",
   "execution_count": 18,
   "metadata": {},
   "outputs": [
    {
     "name": "stdout",
     "output_type": "stream",
     "text": [
      "[0.49572749 0.62051538 0.50279241 ... 0.54842933 0.51753297 0.7537768 ]\n",
      "<class 'numpy.ndarray'>\n",
      "0.07865639789598897\n",
      "0.9022262257918533\n"
     ]
    }
   ],
   "source": [
    "import numpy as np\n",
    "from scipy.stats import beta\n",
    "from matplotlib import pyplot as plt\n",
    "\n",
    "s = np.random.beta(10, 10, 200000)\n",
    "print (s)\n",
    "print (type(s))\n",
    "print (s.min())\n",
    "print (s.max())\n"
   ]
  },
  {
   "cell_type": "code",
   "execution_count": 19,
   "metadata": {},
   "outputs": [
    {
     "name": "stdout",
     "output_type": "stream",
     "text": [
      "0.49980952226515646\n",
      "0.10919574834787069\n"
     ]
    },
    {
     "data": {
      "image/png": "[encoded data removed]",
      "text/plain": [
       "<Figure size 432x288 with 1 Axes>"
      ]
     },
     "metadata": {
      "needs_background": "light"
     },
     "output_type": "display_data"
    }
   ],
   "source": [
    "plt.hist((s), bins = 20)\n",
    "# plt.plot((s), color='b')\n",
    "print (np.mean(s))\n",
    "print (np.std (s))"
   ]
  },
  {
   "cell_type": "markdown",
   "metadata": {},
   "source": [
    "- This distribution thake Perameters a, b and size and returns a ndarray or sclar. The a and b values would seem to equate to the $\\alpha$ and $\\beta$  values of this function and corresponed to the probability of one of two outcomes, i.e. the toss of a coin.\n",
    "- The values of this distribution is between 0 and 1 because it is a distribution of probabilities and therefore must be between 0 and 1.\n",
    "- Its mean is 0.499, but it was noted that by skewing the values of a and b, that the mean tends towards the greater value. \n",
    "- It was noted that the greater the number of samples taken, the more it tends towards a normel shape and the closer the mean gets to .5, **if** the a and b peramerets are equal.\n"
   ]
  },
  {
   "cell_type": "markdown",
   "metadata": {},
   "source": [
    "### Hypergeometric distribution\n",
    "- In probability theory and statistics, the hypergeometric distribution is a discrete probability distribution that describes the probability of $K$ successes (random draws for which the object drawn has a specified feature) in $n$ draws, without replacement, from a finite population of size $N$ that contains exactly $K$ objects with that feature, wherein each draw is either a success or a failure. In contrast, the binomial distribution describes the probability of $k$ successes in $n$ draws with replacement. (Ref https://en.wikipedia.org/wiki/Hypergeometric_distribution)\n",
    "- The parameters are ngood (Number of ways to make a good selection. Must be nonnegative), nbad (Number of ways to make a bad selection. Must be nonnegative), nsample (Number of items sampled. Must be at least 1 and at most ngood + nbad) and size.\n",
    "- The output is a ndarray or a scalar."
   ]
  },
  {
   "cell_type": "code",
   "execution_count": 20,
   "metadata": {},
   "outputs": [
    {
     "name": "stdout",
     "output_type": "stream",
     "text": [
      "<class 'numpy.ndarray'>\n",
      "1\n",
      "1\n"
     ]
    },
    {
     "data": {
      "text/plain": [
       "(100000,)"
      ]
     },
     "execution_count": 20,
     "metadata": {},
     "output_type": "execute_result"
    }
   ],
   "source": [
    "t = np.random.hypergeometric(1, 3, 4, 100000)\n",
    "# In this instance, assume ngood is 1 white ball in an urn, nbad is a 3 black balls in the urn.\n",
    "# We take out 2 balls without replacing them.\n",
    "# This distribution calculated the probability distribution of getting 4 white balls, if the experiment is repeated 100 times.\n",
    "\n",
    "print (type(t))\n",
    "print (t.min())\n",
    "print (t.max())\n",
    "t.shape\n"
   ]
  },
  {
   "cell_type": "code",
   "execution_count": 21,
   "metadata": {},
   "outputs": [
    {
     "name": "stdout",
     "output_type": "stream",
     "text": [
      "1.0\n",
      "0.0\n"
     ]
    },
    {
     "data": {
      "text/plain": [
       "(array([     0.,      0.,      0.,      0.,      0., 100000.,      0.,\n",
       "             0.,      0.,      0.]),\n",
       " array([0.5, 0.6, 0.7, 0.8, 0.9, 1. , 1.1, 1.2, 1.3, 1.4, 1.5]),\n",
       " <a list of 10 Patch objects>)"
      ]
     },
     "execution_count": 21,
     "metadata": {},
     "output_type": "execute_result"
    },
    {
     "data": {
      "image/png": "[encoded data removed]",
      "text/plain": [
       "<Figure size 432x288 with 1 Axes>"
      ]
     },
     "metadata": {
      "needs_background": "light"
     },
     "output_type": "display_data"
    }
   ],
   "source": [
    "print (np.mean(t))\n",
    "print (np.std (t))\n",
    "plt.hist (t)"
   ]
  },
  {
   "cell_type": "code",
   "execution_count": 22,
   "metadata": {},
   "outputs": [],
   "source": [
    "# https://docs.scipy.org/doc/numpy-1.14.0/reference/generated/numpy.random.hypergeometric.html#numpy.random.hypergeometric\n",
    "#sum(t>=12)/100000. + sum(s<=3)/100000."
   ]
  },
  {
   "cell_type": "markdown",
   "metadata": {},
   "source": [
    "### Standard Exponential\n",
    "- Draw samples from the standard exponential distribution. \n",
    "- It takes Parameters: size, which is an int or tuple of ints, (in which case the sample size is the product of the ints.)\n",
    "- It returns a float or ah ndarray\n",
    "- Exponential functions can be used in many contexts, such as compound interest (money), population growth, and radioactive decay. Ref: http://www.montereyinstitute.org/courses/DevelopmentalMath/COURSE_TEXT2_RESOURCE/U18_L1_T1_text_final.html\n",
    "- The standard exponential is identical to the exponential distribution with a scale parameter of 1, it is therefore not necessary to enter this as a parameter.  \n",
    "- Ref https://docs.scipy.org/doc/numpy-1.14.0/reference/generated/numpy.random.standard_exponential.html#numpy.random.standard_exponential. \n",
    "\n"
   ]
  },
  {
   "cell_type": "code",
   "execution_count": 36,
   "metadata": {},
   "outputs": [
    {
     "data": {
      "text/plain": [
       "array([[0.56637663, 0.44739631, 2.14463592],\n",
       "       [0.25670292, 1.20611743, 1.84586907],\n",
       "       [0.40166502, 1.8889649 , 2.64974541],\n",
       "       ...,\n",
       "       [0.95474394, 1.07903714, 1.10312607],\n",
       "       [0.92144472, 0.75221903, 0.29338936],\n",
       "       [0.61569693, 2.33979296, 3.01019292]])"
      ]
     },
     "execution_count": 36,
     "metadata": {},
     "output_type": "execute_result"
    }
   ],
   "source": [
    "n = np.random.standard_exponential((3000,3))\n",
    "# 3,000 x 3 is the size. There is no scale \n",
    "n"
   ]
  },
  {
   "cell_type": "code",
   "execution_count": 37,
   "metadata": {},
   "outputs": [
    {
     "name": "stdout",
     "output_type": "stream",
     "text": [
      "<class 'numpy.ndarray'>\n",
      "0.00023613594512743522\n",
      "11.08198421556905\n"
     ]
    },
    {
     "data": {
      "text/plain": [
       "(3000, 3)"
      ]
     },
     "execution_count": 37,
     "metadata": {},
     "output_type": "execute_result"
    }
   ],
   "source": [
    "print (type(n))\n",
    "print (n.min())\n",
    "print (n.max())\n",
    "n.shape"
   ]
  },
  {
   "cell_type": "code",
   "execution_count": 38,
   "metadata": {},
   "outputs": [
    {
     "name": "stdout",
     "output_type": "stream",
     "text": [
      "1.007992004829574\n",
      "1.0026892389398097\n",
      "([array([1.99e+03, 6.86e+02, 2.13e+02, 7.40e+01, 2.10e+01, 8.00e+00,\n",
      "       7.00e+00, 0.00e+00, 0.00e+00, 1.00e+00]), array([1979.,  707.,  202.,   73.,   26.,   11.,    2.,    0.,    0.,\n",
      "          0.]), array([2.002e+03, 6.600e+02, 2.440e+02, 6.300e+01, 2.100e+01, 7.000e+00,\n",
      "       2.000e+00, 1.000e+00, 0.000e+00, 0.000e+00])], array([2.36135945e-04, 1.10841094e+00, 2.21658575e+00, 3.32476056e+00,\n",
      "       4.43293537e+00, 5.54111018e+00, 6.64928498e+00, 7.75745979e+00,\n",
      "       8.86563460e+00, 9.97380941e+00, 1.10819842e+01]), <a list of 3 Lists of Patches objects>)\n"
     ]
    },
    {
     "data": {
      "image/png": "[encoded data removed]",
      "text/plain": [
       "<Figure size 432x288 with 1 Axes>"
      ]
     },
     "metadata": {
      "needs_background": "light"
     },
     "output_type": "display_data"
    }
   ],
   "source": [
    "print (np.mean(n))\n",
    "print (np.std (n))\n",
    "print (plt.hist (n))"
   ]
  },
  {
   "cell_type": "code",
   "execution_count": null,
   "metadata": {},
   "outputs": [],
   "source": []
  },
  {
   "cell_type": "code",
   "execution_count": null,
   "metadata": {},
   "outputs": [],
   "source": []
  },
  {
   "cell_type": "markdown",
   "metadata": {},
   "source": [
    "### The Exponential Distribution\n",
    "-"
   ]
  },
  {
   "cell_type": "code",
   "execution_count": 41,
   "metadata": {},
   "outputs": [],
   "source": [
    "n1 = np.random.exponential(10, (3000,3))"
   ]
  },
  {
   "cell_type": "code",
   "execution_count": 44,
   "metadata": {},
   "outputs": [
    {
     "name": "stdout",
     "output_type": "stream",
     "text": [
      "<class 'numpy.ndarray'>\n",
      "0.0006243928298150496\n",
      "101.96790613499647\n",
      "Distn Fn Mead is: 10.074870893728185\n",
      "10.116641729740003\n",
      "([array([1.919e+03, 7.100e+02, 2.440e+02, 8.000e+01, 2.700e+01, 1.000e+01,\n",
      "       8.000e+00, 0.000e+00, 1.000e+00, 1.000e+00]), array([1.88e+03, 6.85e+02, 2.83e+02, 1.04e+02, 3.40e+01, 1.00e+01,\n",
      "       2.00e+00, 0.00e+00, 1.00e+00, 1.00e+00]), array([1.929e+03, 7.060e+02, 2.200e+02, 8.300e+01, 3.500e+01, 1.900e+01,\n",
      "       5.000e+00, 2.000e+00, 0.000e+00, 1.000e+00])], array([6.24392830e-04, 1.01973526e+01, 2.03940807e+01, 3.05908089e+01,\n",
      "       4.07875371e+01, 5.09842653e+01, 6.11809934e+01, 7.13777216e+01,\n",
      "       8.15744498e+01, 9.17711780e+01, 1.01967906e+02]), <a list of 3 Lists of Patches objects>)\n"
     ]
    },
    {
     "data": {
      "image/png": "[encoded data removed]",
      "text/plain": [
       "<Figure size 432x288 with 1 Axes>"
      ]
     },
     "metadata": {
      "needs_background": "light"
     },
     "output_type": "display_data"
    }
   ],
   "source": [
    "print (type(n1))\n",
    "print (n1.min())\n",
    "print (n1.max())\n",
    "n1.shape\n",
    "print ((\"Distn Fn Mead is:\"), (np.mean(n1)))\n",
    "print (np.std (n1))\n",
    "print (plt.hist (n1))"
   ]
  },
  {
   "cell_type": "code",
   "execution_count": null,
   "metadata": {},
   "outputs": [],
   "source": []
  }
 ],
 "metadata": {
  "kernelspec": {
   "display_name": "Python 3",
   "language": "python",
   "name": "python3"
  },
  "language_info": {
   "codemirror_mode": {
    "name": "ipython",
    "version": 3
   },
   "file_extension": ".py",
   "mimetype": "text/x-python",
   "name": "python",
   "nbconvert_exporter": "python",
   "pygments_lexer": "ipython3",
   "version": "3.7.4"
  }
 },
 "nbformat": 4,
 "nbformat_minor": 2
}
