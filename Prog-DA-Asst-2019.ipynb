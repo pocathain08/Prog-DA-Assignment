{
 "cells": [
  {
   "cell_type": "markdown",
   "metadata": {},
   "source": [
    "# Programming for Data Analysis Assignment 2019"
   ]
  },
  {
   "cell_type": "markdown",
   "metadata": {},
   "source": [
    "- Ref:\n",
    "- Location: C:\\Users\\35386\\Desktop\\Prog-DA-Assignment"
   ]
  },
  {
   "cell_type": "markdown",
   "metadata": {},
   "source": [
    "# Part 1. Overall Purpose of the Package.\n",
    "- Ref: https://jupyter.org/\n",
    "- 'Project Jupyter exists to develop open-source software, open-standards, and services for interactive computing across dozens of programming languages.'\n",
    "- It's default entry mode is 'code', and at its very basic, this will run programs like any other integrated Development Environment, such as the ipython interpereter. Its main advantage however, as outlined above, is that it interacts with other programming langugaes and it is very useful for investigating Datasets. \n",
    "- It has 3 main types of cells. The Mark down cell which we are currently in displays trxt as HTML.\n",
    "- The second is the Code cell, that accepts code, the following is an example of this:"
   ]
  },
  {
   "cell_type": "code",
   "execution_count": 1,
   "metadata": {},
   "outputs": [
    {
     "name": "stdout",
     "output_type": "stream",
     "text": [
      "-50\n"
     ]
    }
   ],
   "source": [
    "a = 100\n",
    "b = 50\n",
    "print (b-a)"
   ]
  },
  {
   "cell_type": "markdown",
   "metadata": {},
   "source": [
    "- The cell above, is an output cell, that gives the output of the code cell. Double clicking on this will hide it.\n",
    "- There are a number of other keyboard shortcuts available in the help menu. "
   ]
  },
  {
   "cell_type": "markdown",
   "metadata": {},
   "source": [
    "## Advantages\n",
    "\n",
    "Ref: https://www.analyticsvidhya.com/blog/2018/05/starters-guide-jupyter-notebook/\n",
    "\n",
    "- Jupyter Notebook is an open-source web application that allows for the creation and and sharing of codes and documents.\n",
    "- It provides an environment, where coded documents can be run, looked at, have the Data plotted fir visualization all in the one environment. This makes it a useful tool for performing end to end data science workflows – data cleaning, statistical modeling, building and training machine learning models and visualizing data.\n",
    "- Jupiter Notebooks code is written in independent cells. This allows the user to test a specific block of code in a project without having to execute the code from the start of the script.\n",
    "- Jupyter Notebooks are incredibly flexible, interactive and powerful tool. It also allows the user to run other languages besides Python, such as R, SQL, etc.\n",
    "\n",
    "- It does however have its disadvantages.\n",
    "\n",
    "## Disadvantages\n",
    "Ref: https://towardsdatascience.com/5-reasons-why-jupyter-notebooks-suck-4dc201e27086\n",
    "\n",
    "- It is almost impossible to enable good code versioning, making collaboration difficult.\n",
    "- There is no IDE integration, no linting, no code-style correction meaning that it accepts very badly styled code.\n",
    "- It can have a non-linear workflow, but this can be overcome with the restart function.\n",
    "<br>\n",
    "- Personally, I found it to be excellent and I really enjoy using it."
   ]
  },
  {
   "cell_type": "markdown",
   "metadata": {},
   "source": [
    "# Simple Random Data function"
   ]
  },
  {
   "cell_type": "markdown",
   "metadata": {},
   "source": [
    "- Ref: https://www.investopedia.com/terms/s/simple-random-sample.asp\n",
    "- \"A simple random sample is a subset of a statistical population in which each member of the subset has an equal probability of being chosen. A simple random sample is meant to be an unbiased representation of a group\". In numpy, the Random sampling provides ten data functions from which random numbers can be drawn. Each of the data functions has specific peramiters that will impact the range from which the random sample (or subset can be drawn. \n",
    "- Simple Randon Data is a subpackage of numpy and is therefore can be imported into juypter notebook. \n",
    "- Ref: "
   ]
  },
  {
   "cell_type": "markdown",
   "metadata": {},
   "source": [
    "# Permutations Function\n",
    "- Ref: https://docs.scipy.org/doc/numpy-1.14.0/reference/generated/numpy.random.permutation.html\n",
    "- The permutation function in numpy is called by giving the command numpy.random.permutation(x) or numpy.random.shuffle (x).\n",
    "- In numpy.random.permutation(x) gives as an output a randomly permutation of a sequence or a permutation of a range. \n",
    "- In numpy.random.shuffle(x) the sequence is modified by shuffling its content in palce."
   ]
  },
  {
   "cell_type": "markdown",
   "metadata": {},
   "source": [
    "Ref: https://github.com/numpy/numpy/issues/8250"
   ]
  },
  {
   "cell_type": "code",
   "execution_count": 2,
   "metadata": {},
   "outputs": [],
   "source": [
    "import numpy as np\n",
    "\n",
    "N = 10\n",
    "A = np.random.permutation([2, 3, 5, 7, 11])\n",
    "B = np.random.permutation (N)\n",
    "c = np.arange(12).reshape(3,4)\n",
    "D = np.arange(12).reshape(4,3)"
   ]
  },
  {
   "cell_type": "code",
   "execution_count": 3,
   "metadata": {},
   "outputs": [
    {
     "name": "stdout",
     "output_type": "stream",
     "text": [
      "[ 2  5 11  3  7]\n"
     ]
    }
   ],
   "source": [
    "print (A)"
   ]
  },
  {
   "cell_type": "code",
   "execution_count": 4,
   "metadata": {},
   "outputs": [
    {
     "name": "stdout",
     "output_type": "stream",
     "text": [
      "[5 3 8 9 7 1 4 6 2 0]\n"
     ]
    }
   ],
   "source": [
    "print (B)"
   ]
  },
  {
   "cell_type": "code",
   "execution_count": 5,
   "metadata": {},
   "outputs": [
    {
     "name": "stdout",
     "output_type": "stream",
     "text": [
      "[[ 0  1  2  3]\n",
      " [ 4  5  6  7]\n",
      " [ 8  9 10 11]]\n"
     ]
    }
   ],
   "source": [
    "print (c)"
   ]
  },
  {
   "cell_type": "code",
   "execution_count": 6,
   "metadata": {},
   "outputs": [
    {
     "name": "stdout",
     "output_type": "stream",
     "text": [
      "(3, 4)\n"
     ]
    }
   ],
   "source": [
    "print (c.shape)"
   ]
  },
  {
   "cell_type": "code",
   "execution_count": 7,
   "metadata": {},
   "outputs": [
    {
     "name": "stdout",
     "output_type": "stream",
     "text": [
      "[[ 8  9 10 11]\n",
      " [ 4  5  6  7]\n",
      " [ 0  1  2  3]]\n"
     ]
    },
    {
     "data": {
      "text/plain": [
       "array([[ 0,  1,  2,  3],\n",
       "       [ 4,  5,  6,  7],\n",
       "       [ 8,  9, 10, 11]])"
      ]
     },
     "execution_count": 7,
     "metadata": {},
     "output_type": "execute_result"
    }
   ],
   "source": [
    "print ((np.random.permutation(c)))\n",
    "(np.random.permutation(c))\n",
    "c"
   ]
  },
  {
   "cell_type": "code",
   "execution_count": 8,
   "metadata": {},
   "outputs": [
    {
     "name": "stdout",
     "output_type": "stream",
     "text": [
      "[[ 0  1  2]\n",
      " [ 3  4  5]\n",
      " [ 6  7  8]\n",
      " [ 9 10 11]]\n"
     ]
    }
   ],
   "source": [
    "print (D)"
   ]
  },
  {
   "cell_type": "code",
   "execution_count": 9,
   "metadata": {},
   "outputs": [
    {
     "name": "stdout",
     "output_type": "stream",
     "text": [
      "(4, 3)\n"
     ]
    }
   ],
   "source": [
    "print (D.shape)"
   ]
  },
  {
   "cell_type": "code",
   "execution_count": 10,
   "metadata": {},
   "outputs": [
    {
     "name": "stdout",
     "output_type": "stream",
     "text": [
      "None\n"
     ]
    },
    {
     "data": {
      "text/plain": [
       "array([[ 9, 10, 11],\n",
       "       [ 6,  7,  8],\n",
       "       [ 3,  4,  5],\n",
       "       [ 0,  1,  2]])"
      ]
     },
     "execution_count": 10,
     "metadata": {},
     "output_type": "execute_result"
    }
   ],
   "source": [
    "print (np.random.shuffle(D))\n",
    "np.random.shuffle(D)\n",
    "D"
   ]
  },
  {
   "cell_type": "markdown",
   "metadata": {},
   "source": [
    "- One of the difference noted here is how each function is called, in shuffle using print outputs None. "
   ]
  },
  {
   "cell_type": "markdown",
   "metadata": {},
   "source": [
    "# Distribution Functions\n",
    "- Ref: https://docs.scipy.org/doc/numpy-1.14.0/reference/routines.random.html\n",
    "- The first thing I will do is to look at the various distribution functions using a Density Plot. This will give a better (more continuous) picturs of the density plot/"
   ]
  },
  {
   "cell_type": "markdown",
   "metadata": {},
   "source": [
    "### Pareto distribution\n",
    "- The first distribution to be examined will be the pareto distribution. This draws samples from samples from a Pareto II or Lomax distribution with specified shape. \n",
    "- The Lomax distribution is a heavy tailed distribution originally proposed by Lomax (1987), who used it in his analysis of business failure lifetime data. The distribution, which is basically a shifted Pareto distribution, is widely used in survival analysis, and has many applications in actuarial science, economics, and business. (https://www.statisticshowto.datasciencecentral.com/lomax-distribution/)\n",
    "- The Pareto distribution must be greater than zero, and is unbounded above. It is also known as the “80-20 rule”. In this distribution, 80 percent of the weights are in the lowest 20 percent of the range, while the other 20 percent fill the remaining 80 percent of the range.\n",
    "- The following is a plot of the pareto distribution."
   ]
  },
  {
   "cell_type": "code",
   "execution_count": 11,
   "metadata": {},
   "outputs": [],
   "source": [
    "%matplotlib inline\n",
    "# Need this to show the plot.\n",
    "a, m = 10, 100.  \n",
    "# shape (a) and mode (m)\n",
    "s = (np.random.pareto(a, 100) + 1) * m"
   ]
  },
  {
   "cell_type": "code",
   "execution_count": 12,
   "metadata": {},
   "outputs": [
    {
     "name": "stderr",
     "output_type": "stream",
     "text": [
      "C:\\Users\\35386\\Anaconda3\\lib\\site-packages\\ipykernel_launcher.py:2: MatplotlibDeprecationWarning: \n",
      "The 'normed' kwarg was deprecated in Matplotlib 2.1 and will be removed in 3.1. Use 'density' instead.\n",
      "  \n"
     ]
    },
    {
     "data": {
      "image/png": "[encoded data removed]",
      "text/plain": [
       "<Figure size 432x288 with 1 Axes>"
      ]
     },
     "metadata": {
      "needs_background": "light"
     },
     "output_type": "display_data"
    }
   ],
   "source": [
    "import matplotlib.pyplot as plt\n",
    "count, bins, _ = plt.hist(s, 10, normed=True)               \n",
    "fit = a*m**a / bins**(a+1)\n",
    "plt.plot(bins, max(count)*fit/max(fit), linewidth=2, color='r')\n",
    "plt.show()"
   ]
  },
  {
   "cell_type": "code",
   "execution_count": 13,
   "metadata": {
    "collapsed": true
   },
   "outputs": [
    {
     "data": {
      "text/plain": [
       "array([1.62315317e-02, 1.30956350e-01, 1.11084194e-01, 6.85154209e-02,\n",
       "       2.87685898e-02, 6.75284519e-03, 6.14453646e-03, 7.32766247e-02,\n",
       "       1.28526392e-02, 2.41173848e-02, 1.89994787e-03, 2.62093115e-01,\n",
       "       6.76455044e-02, 1.34703109e-02, 3.54745341e-02, 3.65972064e-01,\n",
       "       2.35083399e-01, 1.34796752e-01, 2.58261869e-03, 9.94234248e-02,\n",
       "       1.60385125e-01, 3.92389361e-01, 1.04202586e-01, 9.32905878e-02,\n",
       "       1.81286133e-01, 8.47148222e-02, 5.21643188e-02, 2.83116993e-01,\n",
       "       1.84217018e-02, 2.85770582e-02, 1.86614937e-01, 3.24732951e-01,\n",
       "       8.37966648e-02, 2.85593708e-01, 6.72453005e-02, 6.89811311e-02,\n",
       "       6.44546074e-03, 7.63785371e-03, 1.43405922e-02, 2.43737664e-03,\n",
       "       1.21586562e-01, 5.18201122e-01, 4.54156035e-03, 1.98623633e-01,\n",
       "       2.06285576e-02, 3.18652427e-01, 1.01991939e-01, 1.88240627e-01,\n",
       "       6.20143842e-02, 3.47182461e-01, 1.72368471e-01, 9.82110934e-02,\n",
       "       5.79971125e-02, 1.40771485e-02, 1.01340622e-01, 2.23345236e-02,\n",
       "       9.30371794e-02, 6.69443866e-02, 1.50879852e-02, 7.84497904e-02,\n",
       "       1.33844809e-01, 4.29069425e-02, 9.63230931e-02, 1.34381525e-02,\n",
       "       2.35835937e-01, 3.71617062e-01, 1.42740760e-04, 1.70353865e-01,\n",
       "       2.52554938e-01, 1.40183827e-01, 2.33721696e-01, 1.57016748e-01,\n",
       "       1.03708555e-01, 1.99047453e-02, 6.25688769e-02, 5.13501787e-02,\n",
       "       2.11713005e-01, 8.44832385e-02, 1.56119958e-01, 5.64134879e-02,\n",
       "       2.25922831e-01, 1.01245381e-01, 1.87675138e-01, 2.25198598e-02,\n",
       "       5.36175697e-02, 2.85212872e-02, 5.61191984e-02, 1.21427644e-01,\n",
       "       3.82371158e-01, 3.01769080e-02, 4.38364376e-02, 2.43812315e-01,\n",
       "       1.27355095e-01, 1.08394966e-01, 1.29893398e-01, 6.80973550e-02,\n",
       "       1.71683012e-01, 2.50080581e-02, 4.05856820e-01, 1.85911337e-01])"
      ]
     },
     "execution_count": 13,
     "metadata": {},
     "output_type": "execute_result"
    }
   ],
   "source": [
    "x = np.random.pareto(10, 100)\n",
    "# 10 is the shape of the distribution, 100 is the size\n",
    "x"
   ]
  },
  {
   "cell_type": "code",
   "execution_count": 14,
   "metadata": {},
   "outputs": [
    {
     "name": "stdout",
     "output_type": "stream",
     "text": [
      "<class 'numpy.ndarray'>\n",
      "0.00014274075956954846\n",
      "0.518201122277705\n"
     ]
    }
   ],
   "source": [
    "print (type(x))\n",
    "print (x.min())\n",
    "print (x.max())"
   ]
  },
  {
   "cell_type": "code",
   "execution_count": 15,
   "metadata": {},
   "outputs": [
    {
     "name": "stdout",
     "output_type": "stream",
     "text": [
      "0.12058675660708491\n",
      "0.11077576705461234\n"
     ]
    },
    {
     "data": {
      "image/png": "[encoded data removed]",
      "text/plain": [
       "<Figure size 432x288 with 1 Axes>"
      ]
     },
     "metadata": {
      "needs_background": "light"
     },
     "output_type": "display_data"
    }
   ],
   "source": [
    "plt.hist(x)\n",
    "#plt.plot((x), color='r')\n",
    "print (np.mean(x))\n",
    "print (np.std (x))"
   ]
  },
  {
   "cell_type": "markdown",
   "metadata": {},
   "source": [
    "- As outlined, 80% of this distribution is frontloaded in this distribution, this would explain the location of the mean and the sixe of the standard distribution, i.e. to capture 97% of this distribution, we need to go past .59 on the x axis."
   ]
  },
  {
   "cell_type": "markdown",
   "metadata": {},
   "source": [
    "### Triangular distribution\n",
    "- The triangular distribution is often used in ill-defined problems where the underlying distribution is not known, but some knowledge of the limits and mode exists"
   ]
  },
  {
   "cell_type": "code",
   "execution_count": 16,
   "metadata": {},
   "outputs": [
    {
     "name": "stdout",
     "output_type": "stream",
     "text": [
      "[2.45957818 3.4722701  4.74458073 ... 6.65936218 1.47825095 2.8615861 ]\n",
      "<class 'numpy.ndarray'>\n",
      "1.0105911957869587\n",
      "7.976281857176735\n"
     ]
    }
   ],
   "source": [
    "y = np.random.triangular (1, 3, 8, 100000)\n",
    "print (y)\n",
    "print (type(y))\n",
    "print (y.min())\n",
    "print (y.max())"
   ]
  },
  {
   "cell_type": "code",
   "execution_count": 17,
   "metadata": {},
   "outputs": [
    {
     "name": "stdout",
     "output_type": "stream",
     "text": [
      "4.008093628272172\n",
      "1.4770199043478145\n"
     ]
    },
    {
     "data": {
      "image/png": "[encoded data removed]",
      "text/plain": [
       "<Figure size 432x288 with 1 Axes>"
      ]
     },
     "metadata": {
      "needs_background": "light"
     },
     "output_type": "display_data"
    }
   ],
   "source": [
    "plt.hist((y), bins=50)\n",
    "#plt.plot((y), color='b')\n",
    "print (np.mean(y))\n",
    "print (np.std (y))"
   ]
  },
  {
   "cell_type": "markdown",
   "metadata": {},
   "source": [
    "- This distribution, takes parameters, left, mode, right, size and gives as an output a ndarray or scalar. The left, right and mode parameers can be folats or and array of like floats, but the size must be ints or tuples of ints.\n",
    "- As implied by it's name looks like a triangle with the apex given at the mode value (the most often occuring value in the distribution). It is bounded by the left and right values.\n",
    "- The mean of this distrubition is dependant on the left and right values and the shape of the triangle will tend towards the lower of the two values."
   ]
  },
  {
   "cell_type": "markdown",
   "metadata": {},
   "source": [
    "### Beta distribution\n",
    "- In short, the beta distribution can be understood as representing a probability distribution of probabilities- that is, it represents all the possible values of a probability when we don’t know what that probability is, (Ref: http://varianceexplained.org/statistics/beta_distribution_and_baseball/).\n",
    "- The beta distribution is used for many applications, including Bayesian hypothesis testing, the Rule of Succession (a famous example being Pierre-Simon Laplace’s treatment of the sunrise problem), and Task duration modeling. The beta distribution is especially suited to project/planning control systems like PERT and CPM because the function is constrained by an interval with a minimum (0) and maximum (1) value (Ref: https://www.statisticshowto.datasciencecentral.com/beta-distribution/)\n",
    "- "
   ]
  },
  {
   "cell_type": "code",
   "execution_count": 18,
   "metadata": {},
   "outputs": [
    {
     "name": "stdout",
     "output_type": "stream",
     "text": [
      "[0.69820913 0.42273834 0.51615773 ... 0.62952394 0.63579888 0.40297332]\n",
      "<class 'numpy.ndarray'>\n",
      "0.1081876471709323\n",
      "0.9154800134589359\n"
     ]
    }
   ],
   "source": [
    "import numpy as np\n",
    "from scipy.stats import beta\n",
    "from matplotlib import pyplot as plt\n",
    "\n",
    "s = np.random.beta(10, 10, 200000)\n",
    "print (s)\n",
    "print (type(s))\n",
    "print (s.min())\n",
    "print (s.max())\n"
   ]
  },
  {
   "cell_type": "code",
   "execution_count": 19,
   "metadata": {},
   "outputs": [
    {
     "name": "stdout",
     "output_type": "stream",
     "text": [
      "0.49983251297623743\n",
      "0.10911213219227181\n"
     ]
    },
    {
     "data": {
      "image/png": "[encoded data removed]",
      "text/plain": [
       "<Figure size 432x288 with 1 Axes>"
      ]
     },
     "metadata": {
      "needs_background": "light"
     },
     "output_type": "display_data"
    }
   ],
   "source": [
    "plt.hist((s), bins = 20)\n",
    "# plt.plot((s), color='b')\n",
    "print (np.mean(s))\n",
    "print (np.std (s))"
   ]
  },
  {
   "cell_type": "markdown",
   "metadata": {},
   "source": [
    "- This distribution thake Perameters a, b and size and returns a ndarray or sclar. The a and b values would seem to equate to the $\\alpha$ and $\\beta$  values of this function and corresponed to the probability of one of two outcomes, i.e. the toss of a coin.\n",
    "- The values of this distribution is between 0 and 1 because it is a distribution of probabilities and therefore must be between 0 and 1.\n",
    "- Its mean is 0.499, but it was noted that by skewing the values of a and b, that the mean tends towards the greater value. \n",
    "- It was noted that the greater the number of samples taken, the more it tends towards a normel shape and the closer the mean gets to .5, **if** the a and b peramerets are equal.\n"
   ]
  },
  {
   "cell_type": "markdown",
   "metadata": {},
   "source": [
    "### Hypergeometric distribution\n",
    "- In probability theory and statistics, the hypergeometric distribution is a discrete probability distribution that describes the probability of $K$ successes (random draws for which the object drawn has a specified feature) in $n$ draws, without replacement, from a finite population of size $N$ that contains exactly $K$ objects with that feature, wherein each draw is either a success or a failure. In contrast, the binomial distribution describes the probability of $k$ successes in $n$ draws with replacement. (Ref https://en.wikipedia.org/wiki/Hypergeometric_distribution)\n",
    "- The parameters are ngood (Number of ways to make a good selection. Must be nonnegative), nbad (Number of ways to make a bad selection. Must be nonnegative), nsample (Number of items sampled. Must be at least 1 and at most ngood + nbad) and size.\n",
    "- The output is a ndarray or a scalar."
   ]
  },
  {
   "cell_type": "code",
   "execution_count": 20,
   "metadata": {},
   "outputs": [
    {
     "name": "stdout",
     "output_type": "stream",
     "text": [
      "<class 'numpy.ndarray'>\n",
      "1\n",
      "1\n"
     ]
    },
    {
     "data": {
      "text/plain": [
       "(100000,)"
      ]
     },
     "execution_count": 20,
     "metadata": {},
     "output_type": "execute_result"
    }
   ],
   "source": [
    "t = np.random.hypergeometric(1, 3, 4, 100000)\n",
    "# In this instance, assume ngood is 1 white ball in an urn, nbad is a 3 black balls in the urn.\n",
    "# We take out 2 balls without replacing them.\n",
    "# This distribution calculated the probability distribution of getting 4 white balls, if the experiment is repeated 100 times.\n",
    "\n",
    "print (type(t))\n",
    "print (t.min())\n",
    "print (t.max())\n",
    "t.shape\n"
   ]
  },
  {
   "cell_type": "code",
   "execution_count": 21,
   "metadata": {},
   "outputs": [
    {
     "name": "stdout",
     "output_type": "stream",
     "text": [
      "1.0\n",
      "0.0\n"
     ]
    },
    {
     "data": {
      "text/plain": [
       "(array([     0.,      0.,      0.,      0.,      0., 100000.,      0.,\n",
       "             0.,      0.,      0.]),\n",
       " array([0.5, 0.6, 0.7, 0.8, 0.9, 1. , 1.1, 1.2, 1.3, 1.4, 1.5]),\n",
       " <a list of 10 Patch objects>)"
      ]
     },
     "execution_count": 21,
     "metadata": {},
     "output_type": "execute_result"
    },
    {
     "data": {
      "image/png": "[encoded data removed]",
      "text/plain": [
       "<Figure size 432x288 with 1 Axes>"
      ]
     },
     "metadata": {
      "needs_background": "light"
     },
     "output_type": "display_data"
    }
   ],
   "source": [
    "print (np.mean(t))\n",
    "print (np.std (t))\n",
    "plt.hist (t)"
   ]
  },
  {
   "cell_type": "code",
   "execution_count": 22,
   "metadata": {},
   "outputs": [],
   "source": [
    "# https://docs.scipy.org/doc/numpy-1.14.0/reference/generated/numpy.random.hypergeometric.html#numpy.random.hypergeometric\n",
    "#sum(t>=12)/100000. + sum(s<=3)/100000."
   ]
  },
  {
   "cell_type": "markdown",
   "metadata": {},
   "source": [
    "### The Exponential Distribution\n",
    "-"
   ]
  },
  {
   "cell_type": "code",
   "execution_count": 23,
   "metadata": {},
   "outputs": [],
   "source": [
    "n1 = np.random.exponential(10, (3000,3))"
   ]
  },
  {
   "cell_type": "code",
   "execution_count": 24,
   "metadata": {},
   "outputs": [
    {
     "name": "stdout",
     "output_type": "stream",
     "text": [
      "<class 'numpy.ndarray'>\n",
      "0.0007963384030123677\n",
      "95.77428911906374\n",
      "Distn Fn Mead is: 9.906709900522552\n",
      "9.895862252619747\n",
      "([array([1.879e+03, 7.150e+02, 2.440e+02, 1.030e+02, 4.000e+01, 8.000e+00,\n",
      "       8.000e+00, 2.000e+00, 1.000e+00, 0.000e+00]), array([1.857e+03, 7.140e+02, 2.700e+02, 8.700e+01, 4.100e+01, 2.200e+01,\n",
      "       6.000e+00, 1.000e+00, 2.000e+00, 0.000e+00]), array([1.836e+03, 7.000e+02, 2.880e+02, 1.110e+02, 4.300e+01, 1.200e+01,\n",
      "       7.000e+00, 2.000e+00, 0.000e+00, 1.000e+00])], array([7.96338403e-04, 9.57814562e+00, 1.91554949e+01, 2.87328442e+01,\n",
      "       3.83101935e+01, 4.78875427e+01, 5.74648920e+01, 6.70422413e+01,\n",
      "       7.66195906e+01, 8.61969398e+01, 9.57742891e+01]), <a list of 3 Lists of Patches objects>)\n"
     ]
    },
    {
     "data": {
      "image/png": "[encoded data removed]",
      "text/plain": [
       "<Figure size 432x288 with 1 Axes>"
      ]
     },
     "metadata": {
      "needs_background": "light"
     },
     "output_type": "display_data"
    }
   ],
   "source": [
    "print (type(n1))\n",
    "print (n1.min())\n",
    "print (n1.max())\n",
    "n1.shape\n",
    "print ((\"Distn Fn Mead is:\"), (np.mean(n1)))\n",
    "print (np.std (n1))\n",
    "print (plt.hist (n1))"
   ]
  },
  {
   "cell_type": "markdown",
   "metadata": {},
   "source": [
    "### The Standard Exponential\n",
    "- Draw samples from the standard exponential distribution. \n",
    "- It takes Parameters: size, which is an int or tuple of ints, (in which case the sample size is the product of the ints.)\n",
    "- It returns a float or ah ndarray\n",
    "- Exponential functions can be used in many contexts, such as compound interest (money), population growth, and radioactive decay. Ref: http://www.montereyinstitute.org/courses/DevelopmentalMath/COURSE_TEXT2_RESOURCE/U18_L1_T1_text_final.html\n",
    "- The standard exponential is identical to the exponential distribution with a scale parameter of 1, it is therefore not necessary to enter this as a parameter.  \n",
    "- Ref https://docs.scipy.org/doc/numpy-1.14.0/reference/generated/numpy.random.standard_exponential.html#numpy.random.standard_exponential. \n",
    "\n"
   ]
  },
  {
   "cell_type": "code",
   "execution_count": 25,
   "metadata": {},
   "outputs": [
    {
     "data": {
      "text/plain": [
       "array([[0.1517637 , 0.64935345, 1.13146344],\n",
       "       [0.33837469, 0.41784074, 0.28987156],\n",
       "       [1.38473036, 1.30956431, 0.03229639],\n",
       "       ...,\n",
       "       [1.23281527, 3.09644693, 0.37498934],\n",
       "       [1.10023496, 0.96707798, 0.96521701],\n",
       "       [0.31325587, 2.61295442, 0.81288666]])"
      ]
     },
     "execution_count": 25,
     "metadata": {},
     "output_type": "execute_result"
    }
   ],
   "source": [
    "n = np.random.standard_exponential((3000,3))\n",
    "# 3,000 x 3 is the size. There is no scale \n",
    "n"
   ]
  },
  {
   "cell_type": "code",
   "execution_count": 26,
   "metadata": {},
   "outputs": [
    {
     "name": "stdout",
     "output_type": "stream",
     "text": [
      "<class 'numpy.ndarray'>\n",
      "3.684771196063572e-05\n",
      "9.726515788501638\n"
     ]
    },
    {
     "data": {
      "text/plain": [
       "(3000, 3)"
      ]
     },
     "execution_count": 26,
     "metadata": {},
     "output_type": "execute_result"
    }
   ],
   "source": [
    "print (type(n))\n",
    "print (n.min())\n",
    "print (n.max())\n",
    "n.shape"
   ]
  },
  {
   "cell_type": "code",
   "execution_count": 27,
   "metadata": {},
   "outputs": [
    {
     "name": "stdout",
     "output_type": "stream",
     "text": [
      "1.0034916562534502\n",
      "0.993944696300814\n",
      "([array([1.858e+03, 6.970e+02, 2.860e+02, 1.060e+02, 3.400e+01, 1.200e+01,\n",
      "       4.000e+00, 2.000e+00, 0.000e+00, 1.000e+00]), array([1.861e+03, 7.040e+02, 2.620e+02, 1.090e+02, 4.300e+01, 1.300e+01,\n",
      "       7.000e+00, 0.000e+00, 1.000e+00, 0.000e+00]), array([1.839e+03, 7.370e+02, 2.500e+02, 1.070e+02, 4.200e+01, 1.900e+01,\n",
      "       5.000e+00, 1.000e+00, 0.000e+00, 0.000e+00])], array([3.68477120e-05, 9.72684742e-01, 1.94533264e+00, 2.91798053e+00,\n",
      "       3.89062842e+00, 4.86327632e+00, 5.83592421e+00, 6.80857211e+00,\n",
      "       7.78122000e+00, 8.75386789e+00, 9.72651579e+00]), <a list of 3 Lists of Patches objects>)\n"
     ]
    },
    {
     "data": {
      "image/png": "[encoded data removed]",
      "text/plain": [
       "<Figure size 432x288 with 1 Axes>"
      ]
     },
     "metadata": {
      "needs_background": "light"
     },
     "output_type": "display_data"
    }
   ],
   "source": [
    "print (np.mean(n))\n",
    "print (np.std (n))\n",
    "print (plt.hist (n))"
   ]
  },
  {
   "cell_type": "code",
   "execution_count": null,
   "metadata": {},
   "outputs": [],
   "source": []
  },
  {
   "cell_type": "code",
   "execution_count": null,
   "metadata": {},
   "outputs": [],
   "source": []
  },
  {
   "cell_type": "markdown",
   "metadata": {},
   "source": [
    "## Seeds\n",
    "- Ref: 1. https://www.quora.com/What-is-seed-in-random-number-generation\n",
    "    2. https://www.geeksforgeeks.org/pseudo-random-number-generator-prng/\n",
    "    3. https://www.edureka.co/community/25335/what-exactly-is-the-function-of-random-seed-in-python\n",
    "\n",
    "- Computers do not generate random numbers, instead they generate “pseudo-random numbers” using a Pseudo Random Number Generator(PRNG) algorithim. The PRNG algorithm generates a sequence of numbers that approximate the properties of random numbers. The sequence of numbers has a very long period, which is why they appear random. \n",
    "\n",
    "- The arbitary starting point of a PRNG is called the seed, so if the same seed is used to generate a random sequence, the it will yield same sequence of random numbers.\n",
    "\n",
    "- Generally, you want to seed your random number generator with some value that will change each execution of the program, because if the same seed is provided twice,  the same sequence of numbers will be returned twice. For instance, the current time is a frequently-used seed. The reason why this doesn't happen automatically is so that if you want, you can provide a specific seed to get a known sequence of numbers.\n",
    "\n",
    "- The following examples will illustrate:"
   ]
  },
  {
   "cell_type": "code",
   "execution_count": 28,
   "metadata": {},
   "outputs": [
    {
     "name": "stdout",
     "output_type": "stream",
     "text": [
      "[0.67163361 0.89381393 0.85059682 ... 0.76854426 0.56701621 0.41946578]\n",
      "[0.13050169 0.02378435 0.29706459 ... 0.63001387 0.16755611 0.17974548]\n"
     ]
    }
   ],
   "source": [
    "import numpy as np\n",
    "g = np.random.random_sample((5000,))\n",
    "h = np.random.random_sample((5000,))\n",
    "print(g)\n",
    "print(h)"
   ]
  },
  {
   "cell_type": "code",
   "execution_count": 29,
   "metadata": {},
   "outputs": [
    {
     "data": {
      "text/plain": [
       "False"
      ]
     },
     "execution_count": 29,
     "metadata": {},
     "output_type": "execute_result"
    }
   ],
   "source": [
    "np.all(g == h)\n",
    "# Test to see if this return two different arrays."
   ]
  },
  {
   "cell_type": "markdown",
   "metadata": {},
   "source": [
    "- In the example above, it is obvious that the randomly generates arrays are not the same. This is because a different seed was used as a start point for each."
   ]
  },
  {
   "cell_type": "code",
   "execution_count": 30,
   "metadata": {},
   "outputs": [
    {
     "name": "stdout",
     "output_type": "stream",
     "text": [
      "[0.96702984 0.54723225 0.97268436 ... 0.08460976 0.70065013 0.10191135]\n",
      "[0.96702984 0.54723225 0.97268436 ... 0.08460976 0.70065013 0.10191135]\n"
     ]
    }
   ],
   "source": [
    "import numpy as np\n",
    "np.random.seed(4)\n",
    "g1 = np.random.random_sample((50000))\n",
    "np.random.seed(4)\n",
    "h1 = np.random.random_sample((50000))\n",
    "print(g1)\n",
    "print(h1)"
   ]
  },
  {
   "cell_type": "code",
   "execution_count": 31,
   "metadata": {},
   "outputs": [
    {
     "data": {
      "text/plain": [
       "True"
      ]
     },
     "execution_count": 31,
     "metadata": {},
     "output_type": "execute_result"
    }
   ],
   "source": [
    "np.all(g1 == h1)"
   ]
  },
  {
   "cell_type": "markdown",
   "metadata": {},
   "source": [
    "- In the example above, the array g1 is the same as h1, because both PRNG start at the same seed."
   ]
  },
  {
   "cell_type": "code",
   "execution_count": 32,
   "metadata": {},
   "outputs": [
    {
     "name": "stdout",
     "output_type": "stream",
     "text": [
      "[0.54585143 0.85885661 0.68589259 0.33159182 0.05999793]\n",
      "[0.1530542  0.15768566 0.98549111 0.90449773 0.18607826]\n"
     ]
    }
   ],
   "source": [
    "import numpy as np\n",
    "np.random.seed(np.random.randint(1, 100))\n",
    "g1 = np.random.random_sample((5))\n",
    "np.random.seed(np.random.randint(1, 100))\n",
    "h1 = np.random.random_sample((5))\n",
    "print(g1)\n",
    "print(h1)"
   ]
  },
  {
   "cell_type": "markdown",
   "metadata": {},
   "source": [
    "- in the example above, when the same function is called as a seed, because they are randomly generated, they will be different."
   ]
  },
  {
   "cell_type": "code",
   "execution_count": 33,
   "metadata": {},
   "outputs": [
    {
     "name": "stdout",
     "output_type": "stream",
     "text": [
      "[0.96702984 0.54723225 0.97268436 0.71481599 0.69772882 0.2160895\n",
      " 0.97627445 0.00623026 0.25298236 0.43479153]\n",
      "[0.96702984 0.54723225 0.97268436 0.71481599 0.69772882]\n"
     ]
    }
   ],
   "source": [
    "import numpy as np\n",
    "np.random.seed(4)\n",
    "g1 = np.random.random_sample((10))\n",
    "np.random.seed(4)\n",
    "h1 = np.random.random_sample((5))\n",
    "print(g1)\n",
    "print(h1)"
   ]
  },
  {
   "cell_type": "markdown",
   "metadata": {},
   "source": [
    "- In the example above, the first five elements are the same, again because they started at the same seed."
   ]
  }
 ],
 "metadata": {
  "kernelspec": {
   "display_name": "Python 3",
   "language": "python",
   "name": "python3"
  },
  "language_info": {
   "codemirror_mode": {
    "name": "ipython",
    "version": 3
   },
   "file_extension": ".py",
   "mimetype": "text/x-python",
   "name": "python",
   "nbconvert_exporter": "python",
   "pygments_lexer": "ipython3",
   "version": "3.7.4"
  }
 },
 "nbformat": 4,
 "nbformat_minor": 2
}
